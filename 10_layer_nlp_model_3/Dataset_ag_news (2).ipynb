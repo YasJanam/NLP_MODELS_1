{
 "cells": [
  {
   "cell_type": "markdown",
   "id": "1f5a751b-f8aa-424a-aac5-777a2aa77b25",
   "metadata": {},
   "source": [
    "### **ag_news**\n",
    "\n",
    "یک دیتاست استاندارد برای طبقه بندی متن است\n",
    "\n",
    "دیتاست در کل دو قسمت دارد.یکی برای آموزش و یکی برای تست\n",
    "\n",
    "قسمت آموزش 120 هزار سطر دارد\n",
    "\n",
    "قسمت تست 7600 سطر دارد\n",
    "\n",
    "label دارد و یک text هر سطر یک\n",
    "\n",
    "موضوع دیتاست : اخبار و طبقه بندی متن خبر\n",
    "\n",
    "Labels : World, Sports, Business, Sci/Tech (4 class)\n"
   ]
  },
  {
   "cell_type": "markdown",
   "id": "30d34882-e198-4595-85d8-da0dd9fade78",
   "metadata": {},
   "source": [
    "####  **توجه❗**\n",
    "\n",
    "**ما از متن های این دیتاست برای تولید متن استفاده کردیم,یعنی کاری با برچسب ها و کلاس بندی هایش نداشتیم , تنها با تکست هایش کار کردیم**"
   ]
  },
  {
   "cell_type": "markdown",
   "id": "6b3097be-bf19-43c8-a193-777251002d1b",
   "metadata": {},
   "source": [
    "##### **Requirements ➡**"
   ]
  },
  {
   "cell_type": "code",
   "execution_count": 1,
   "id": "557332e6-2566-4ef8-910c-9595c9778c33",
   "metadata": {},
   "outputs": [],
   "source": [
    "from datasets import load_dataset"
   ]
  },
  {
   "cell_type": "markdown",
   "id": "5281a750-ee9c-4d6a-8b85-3ebee1cd3fca",
   "metadata": {},
   "source": [
    "##### **Load_Dataset ➡**"
   ]
  },
  {
   "cell_type": "code",
   "execution_count": 2,
   "id": "7eb984b8-a7db-4fe2-9174-ca1fbd49357b",
   "metadata": {},
   "outputs": [],
   "source": [
    "dataset = load_dataset(\"ag_news\")"
   ]
  },
  {
   "cell_type": "markdown",
   "id": "bfcc0e22-41f2-463c-b608-facea7ba9ee8",
   "metadata": {},
   "source": [
    "##### نمایش دیتاست ➡"
   ]
  },
  {
   "cell_type": "code",
   "execution_count": 3,
   "id": "7e0cfd62-07c1-45f7-87c6-acd13eddeb40",
   "metadata": {},
   "outputs": [
    {
     "data": {
      "text/plain": [
       "DatasetDict({\n",
       "    train: Dataset({\n",
       "        features: ['text', 'label'],\n",
       "        num_rows: 120000\n",
       "    })\n",
       "    test: Dataset({\n",
       "        features: ['text', 'label'],\n",
       "        num_rows: 7600\n",
       "    })\n",
       "})"
      ]
     },
     "execution_count": 3,
     "metadata": {},
     "output_type": "execute_result"
    }
   ],
   "source": [
    "dataset"
   ]
  },
  {
   "cell_type": "markdown",
   "id": "66e1b9df-8e20-4fe1-905c-f3f7858a5966",
   "metadata": {},
   "source": [
    "##### **sample ➡**"
   ]
  },
  {
   "cell_type": "code",
   "execution_count": 4,
   "id": "06a8524a-2525-47f8-bd2d-e5f5004337c2",
   "metadata": {},
   "outputs": [
    {
     "data": {
      "text/plain": [
       "{'text': \"Wall St. Bears Claw Back Into the Black (Reuters) Reuters - Short-sellers, Wall Street's dwindling\\\\band of ultra-cynics, are seeing green again.\",\n",
       " 'label': 2}"
      ]
     },
     "execution_count": 4,
     "metadata": {},
     "output_type": "execute_result"
    }
   ],
   "source": [
    "dataset['train'][0]"
   ]
  }
 ],
 "metadata": {
  "kernelspec": {
   "display_name": "Python 3 (ipykernel)",
   "language": "python",
   "name": "python3"
  },
  "language_info": {
   "codemirror_mode": {
    "name": "ipython",
    "version": 3
   },
   "file_extension": ".py",
   "mimetype": "text/x-python",
   "name": "python",
   "nbconvert_exporter": "python",
   "pygments_lexer": "ipython3",
   "version": "3.13.1"
  }
 },
 "nbformat": 4,
 "nbformat_minor": 5
}
